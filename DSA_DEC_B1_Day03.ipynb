{
  "nbformat": 4,
  "nbformat_minor": 0,
  "metadata": {
    "colab": {
      "provenance": []
    },
    "kernelspec": {
      "name": "python3",
      "display_name": "Python 3"
    },
    "language_info": {
      "name": "python"
    }
  },
  "cells": [
    {
      "cell_type": "markdown",
      "source": [
        "Question 1"
      ],
      "metadata": {
        "id": "6rfQWuo8CnLn"
      }
    },
    {
      "cell_type": "code",
      "execution_count": null,
      "metadata": {
        "colab": {
          "base_uri": "https://localhost:8080/"
        },
        "id": "sm3DrzE_tP23",
        "outputId": "126eaa22-93ab-40c5-e23c-fb66fed0dc69"
      },
      "outputs": [
        {
          "output_type": "stream",
          "name": "stdout",
          "text": [
            "I will buy TV\n"
          ]
        }
      ],
      "source": [
        "#if statement\n",
        "price_tv = 20000\n",
        "money_in_hand = 25000\n",
        "if price_tv <= money_in_hand:\n",
        "  print(\"I will buy TV\")"
      ]
    },
    {
      "cell_type": "markdown",
      "source": [
        "Question 2"
      ],
      "metadata": {
        "id": "Q0-DGRkGCyh6"
      }
    },
    {
      "cell_type": "code",
      "source": [
        "#if.. else statement\n",
        "price_tv = 20000\n",
        "money_in_hand = 2000\n",
        "if price_tv <= money_in_hand:\n",
        "  print(\"I will buy TV\")\n",
        "else:\n",
        "  print(\"Lets look at other models\")\n"
      ],
      "metadata": {
        "colab": {
          "base_uri": "https://localhost:8080/"
        },
        "id": "_874yT_9tuxb",
        "outputId": "e042d823-fcfa-4a41-f65f-1331ed1bc916"
      },
      "execution_count": null,
      "outputs": [
        {
          "output_type": "stream",
          "name": "stdout",
          "text": [
            "Lets look at other models\n"
          ]
        }
      ]
    },
    {
      "cell_type": "code",
      "source": [
        "price_tv = 20000\n",
        "money_in_hand = 2000\n",
        "EMI_OPTION = True\n",
        "if price_tv <= money_in_hand:\n",
        "  print(\"I will buy TV\")\n",
        "elif EMI_OPTION:\n",
        "  print(\"I will buy TV\")\n",
        "else:\n",
        "  print(\"Lets look at other models\")"
      ],
      "metadata": {
        "colab": {
          "base_uri": "https://localhost:8080/"
        },
        "id": "Dkot_RhWun2p",
        "outputId": "ebf27673-315a-4c03-ff31-cfaf7e629a8e"
      },
      "execution_count": null,
      "outputs": [
        {
          "output_type": "stream",
          "name": "stdout",
          "text": [
            "I will buy TV\n"
          ]
        }
      ]
    },
    {
      "cell_type": "markdown",
      "source": [
        "Program to print largest number"
      ],
      "metadata": {
        "id": "O2VJ1xyKwHzR"
      }
    },
    {
      "cell_type": "code",
      "source": [
        "num1,num2 = 7,5\n",
        "if num1>num2:\n",
        "  print(\"largest number is \",num1)\n",
        "else:\n",
        "  print(\"largest number is \",num2)"
      ],
      "metadata": {
        "colab": {
          "base_uri": "https://localhost:8080/"
        },
        "id": "RRuIHRy_v02b",
        "outputId": "10ea18a8-2969-4832-f393-e5b016dc8545"
      },
      "execution_count": null,
      "outputs": [
        {
          "output_type": "stream",
          "name": "stdout",
          "text": [
            "largest number is  7\n"
          ]
        }
      ]
    },
    {
      "cell_type": "code",
      "source": [
        "num1,num2,num3 = 7,5,6\n",
        "if num1>num2 and num1>num3:\n",
        "  print(\"largest number is \",num1)\n",
        "elif num2>num1 and num2>num3:\n",
        "  print(\"largest number is \",num2)\n",
        "else:\n",
        "  print(\"largest number is \",num3)\n"
      ],
      "metadata": {
        "colab": {
          "base_uri": "https://localhost:8080/"
        },
        "id": "bke4xAvDwe8I",
        "outputId": "591c2e91-f4ab-4376-83b9-784701cf9ee9"
      },
      "execution_count": null,
      "outputs": [
        {
          "output_type": "stream",
          "name": "stdout",
          "text": [
            "largest number is  7\n"
          ]
        }
      ]
    },
    {
      "cell_type": "markdown",
      "source": [
        "For Loop"
      ],
      "metadata": {
        "id": "oLshsDbbyxed"
      }
    },
    {
      "cell_type": "code",
      "source": [
        "for num in range(1,10):\n",
        "  print(num)\n"
      ],
      "metadata": {
        "colab": {
          "base_uri": "https://localhost:8080/"
        },
        "id": "VEVOS5mFytGJ",
        "outputId": "ae6025b1-8aff-4361-87e3-011aece23abc"
      },
      "execution_count": null,
      "outputs": [
        {
          "output_type": "stream",
          "name": "stdout",
          "text": [
            "1\n",
            "2\n",
            "3\n",
            "4\n",
            "5\n",
            "6\n",
            "7\n",
            "8\n",
            "9\n"
          ]
        }
      ]
    },
    {
      "cell_type": "code",
      "source": [
        "for num in range(1,11,2):\n",
        "  print(num)"
      ],
      "metadata": {
        "colab": {
          "base_uri": "https://localhost:8080/"
        },
        "id": "6bTydtyfw8bg",
        "outputId": "c05a9c9a-b5a0-46ec-8d76-16f654404333"
      },
      "execution_count": null,
      "outputs": [
        {
          "output_type": "stream",
          "name": "stdout",
          "text": [
            "1\n",
            "3\n",
            "5\n",
            "7\n",
            "9\n"
          ]
        }
      ]
    },
    {
      "cell_type": "code",
      "source": [
        "for num in range(10,0,-1):\n",
        "  print(num)"
      ],
      "metadata": {
        "colab": {
          "base_uri": "https://localhost:8080/"
        },
        "id": "pShEm4yzzW0H",
        "outputId": "c051f4be-bbfe-40e1-8e6a-a54383997261"
      },
      "execution_count": null,
      "outputs": [
        {
          "output_type": "stream",
          "name": "stdout",
          "text": [
            "10\n",
            "9\n",
            "8\n",
            "7\n",
            "6\n",
            "5\n",
            "4\n",
            "3\n",
            "2\n",
            "1\n"
          ]
        }
      ]
    },
    {
      "cell_type": "code",
      "source": [
        "# Squares of all even numbers from 1-10\n",
        "for num in range(1,11):\n",
        "  if(num%2 == 0):\n",
        "    print(num**2)\n"
      ],
      "metadata": {
        "colab": {
          "base_uri": "https://localhost:8080/"
        },
        "id": "SlEnnsYAzkUO",
        "outputId": "61a5244f-1d2c-47ef-aa2a-a8e565ac6e7d"
      },
      "execution_count": null,
      "outputs": [
        {
          "output_type": "stream",
          "name": "stdout",
          "text": [
            "4\n",
            "16\n",
            "36\n",
            "64\n",
            "100\n"
          ]
        }
      ]
    },
    {
      "cell_type": "code",
      "source": [
        "#Find sum and average of numbers till a limit\n",
        "sum = 0\n",
        "lim = int(input('Enter a limit'))\n",
        "for num in range(1,lim+1):\n",
        "  sum=sum+num\n",
        "print(\"Sum is \",sum)\n",
        "print(\"Average is \",sum/lim)\n"
      ],
      "metadata": {
        "colab": {
          "base_uri": "https://localhost:8080/"
        },
        "id": "qrtSqKLc0dhn",
        "outputId": "bfc996a2-6829-462e-da50-9356c98f5740"
      },
      "execution_count": null,
      "outputs": [
        {
          "output_type": "stream",
          "name": "stdout",
          "text": [
            "Enter a limit1000\n",
            "Sum is  500500\n",
            "Average is  500.5\n"
          ]
        }
      ]
    },
    {
      "cell_type": "code",
      "source": [
        "#count of numbers divisible by 3 from 5 to 500\n",
        "count = 0\n",
        "for num in range(5,501):\n",
        "  if num%3 == 0:\n",
        "    count+=1\n",
        "print(\"count of numbers dividible by 3 between 5-500 is \",count)"
      ],
      "metadata": {
        "colab": {
          "base_uri": "https://localhost:8080/"
        },
        "id": "Sz8tulOq1HKn",
        "outputId": "eb7886d5-d455-4d2e-d93c-7d01ebd06082"
      },
      "execution_count": null,
      "outputs": [
        {
          "output_type": "stream",
          "name": "stdout",
          "text": [
            "count of numbers dividible by 3 between 5-500 is  165\n"
          ]
        }
      ]
    },
    {
      "cell_type": "code",
      "source": [
        "fruitlist = ['apple','kivi','grapes','orange']\n",
        "for fruit in fruitlist:\n",
        "  print(fruit)"
      ],
      "metadata": {
        "colab": {
          "base_uri": "https://localhost:8080/"
        },
        "id": "nxCov-QX2JOT",
        "outputId": "384d9713-2505-4462-abe3-86ed3808e51e"
      },
      "execution_count": null,
      "outputs": [
        {
          "output_type": "stream",
          "name": "stdout",
          "text": [
            "apple\n",
            "kivi\n",
            "grapes\n",
            "orange\n"
          ]
        }
      ]
    },
    {
      "cell_type": "code",
      "source": [
        "word = \"python programming\"\n",
        "for letter in word:\n",
        "  print(letter,end=\"\")"
      ],
      "metadata": {
        "colab": {
          "base_uri": "https://localhost:8080/"
        },
        "id": "a7yP1_6F2jKz",
        "outputId": "02ef10ae-d4a3-4375-d1f6-f0cd2b008d91"
      },
      "execution_count": null,
      "outputs": [
        {
          "output_type": "stream",
          "name": "stdout",
          "text": [
            "python programming"
          ]
        }
      ]
    },
    {
      "cell_type": "code",
      "source": [
        "num = 1\n",
        "while (num<=10):\n",
        "  print(num)\n",
        "  num+=2"
      ],
      "metadata": {
        "colab": {
          "base_uri": "https://localhost:8080/"
        },
        "id": "wSxUagcn2wid",
        "outputId": "7dbbe0f2-c481-463b-81c4-74c237e86216"
      },
      "execution_count": null,
      "outputs": [
        {
          "output_type": "stream",
          "name": "stdout",
          "text": [
            "1\n",
            "3\n",
            "5\n",
            "7\n",
            "9\n"
          ]
        }
      ]
    },
    {
      "cell_type": "code",
      "source": [
        "print(\"Type no to stop\")\n",
        "name = input('Enter a name ')\n",
        "while (name!='no'):\n",
        "  print(\"hello \"+name)\n",
        "  name = input('Enter a name ')\n"
      ],
      "metadata": {
        "colab": {
          "base_uri": "https://localhost:8080/"
        },
        "id": "SaEftPvN4Kj4",
        "outputId": "1e153fbb-21ad-45b4-c7a5-8bfce51edc9b"
      },
      "execution_count": null,
      "outputs": [
        {
          "name": "stdout",
          "output_type": "stream",
          "text": [
            "Type no to stop\n",
            "Enter a name Akhila\n",
            "hello Akhila\n",
            "Enter a name no\n"
          ]
        }
      ]
    },
    {
      "cell_type": "code",
      "source": [
        "# break .. continue"
      ],
      "metadata": {
        "id": "PI0L53V24vvI"
      },
      "execution_count": null,
      "outputs": []
    },
    {
      "cell_type": "code",
      "source": [
        "for i in range(1,11):\n",
        "  if(i == 5):\n",
        "    break\n",
        "  print(i)\n",
        "print('Execution over')"
      ],
      "metadata": {
        "colab": {
          "base_uri": "https://localhost:8080/"
        },
        "id": "p3RgakVM5dyX",
        "outputId": "d6ae87df-10a8-40ed-ff77-b8ca4de90060"
      },
      "execution_count": null,
      "outputs": [
        {
          "output_type": "stream",
          "name": "stdout",
          "text": [
            "1\n",
            "2\n",
            "3\n",
            "4\n",
            "Execution over\n"
          ]
        }
      ]
    },
    {
      "cell_type": "code",
      "source": [
        "for i in range(1,11):\n",
        "  if(i == 5):\n",
        "    continue\n",
        "  print(i)\n",
        "print('Execution over')"
      ],
      "metadata": {
        "colab": {
          "base_uri": "https://localhost:8080/"
        },
        "id": "vlG0QuWt5i6b",
        "outputId": "96819d3b-155c-4251-a321-5db22e7e64e8"
      },
      "execution_count": null,
      "outputs": [
        {
          "output_type": "stream",
          "name": "stdout",
          "text": [
            "1\n",
            "2\n",
            "3\n",
            "4\n",
            "6\n",
            "7\n",
            "8\n",
            "9\n",
            "10\n",
            "Execution over\n"
          ]
        }
      ]
    },
    {
      "cell_type": "code",
      "source": [
        "#Program to check given number is prime\n",
        "num = int(input('Enter a positive number'))\n",
        "for test in range(2,num//2+1):\n",
        "  if num%test == 0:\n",
        "    print('Not Prime')\n",
        "    break\n",
        "else:\n",
        "  print('Prime')"
      ],
      "metadata": {
        "colab": {
          "base_uri": "https://localhost:8080/"
        },
        "id": "VyVWC6Mb51ii",
        "outputId": "d65b0517-eb74-4c41-d531-0fe6e769be5d"
      },
      "execution_count": null,
      "outputs": [
        {
          "output_type": "stream",
          "name": "stdout",
          "text": [
            "Enter a positive number13\n",
            "Prime\n"
          ]
        }
      ]
    },
    {
      "cell_type": "code",
      "source": [
        "#nested loop\n",
        "for i in range (1,11):\n",
        "  print('multiplication table of',i)\n",
        "  for j in range (1,11):\n",
        "    print(i ,'*',j,'=' ,i*j)"
      ],
      "metadata": {
        "colab": {
          "base_uri": "https://localhost:8080/"
        },
        "id": "4gL4IYUG61jL",
        "outputId": "94a0e7bf-5059-4a06-b65a-fdc9600c2aec"
      },
      "execution_count": null,
      "outputs": [
        {
          "output_type": "stream",
          "name": "stdout",
          "text": [
            "multiplication table of 1\n",
            "1 * 1 = 1\n",
            "1 * 2 = 2\n",
            "1 * 3 = 3\n",
            "1 * 4 = 4\n",
            "1 * 5 = 5\n",
            "1 * 6 = 6\n",
            "1 * 7 = 7\n",
            "1 * 8 = 8\n",
            "1 * 9 = 9\n",
            "1 * 10 = 10\n",
            "multiplication table of 2\n",
            "2 * 1 = 2\n",
            "2 * 2 = 4\n",
            "2 * 3 = 6\n",
            "2 * 4 = 8\n",
            "2 * 5 = 10\n",
            "2 * 6 = 12\n",
            "2 * 7 = 14\n",
            "2 * 8 = 16\n",
            "2 * 9 = 18\n",
            "2 * 10 = 20\n",
            "multiplication table of 3\n",
            "3 * 1 = 3\n",
            "3 * 2 = 6\n",
            "3 * 3 = 9\n",
            "3 * 4 = 12\n",
            "3 * 5 = 15\n",
            "3 * 6 = 18\n",
            "3 * 7 = 21\n",
            "3 * 8 = 24\n",
            "3 * 9 = 27\n",
            "3 * 10 = 30\n",
            "multiplication table of 4\n",
            "4 * 1 = 4\n",
            "4 * 2 = 8\n",
            "4 * 3 = 12\n",
            "4 * 4 = 16\n",
            "4 * 5 = 20\n",
            "4 * 6 = 24\n",
            "4 * 7 = 28\n",
            "4 * 8 = 32\n",
            "4 * 9 = 36\n",
            "4 * 10 = 40\n",
            "multiplication table of 5\n",
            "5 * 1 = 5\n",
            "5 * 2 = 10\n",
            "5 * 3 = 15\n",
            "5 * 4 = 20\n",
            "5 * 5 = 25\n",
            "5 * 6 = 30\n",
            "5 * 7 = 35\n",
            "5 * 8 = 40\n",
            "5 * 9 = 45\n",
            "5 * 10 = 50\n",
            "multiplication table of 6\n",
            "6 * 1 = 6\n",
            "6 * 2 = 12\n",
            "6 * 3 = 18\n",
            "6 * 4 = 24\n",
            "6 * 5 = 30\n",
            "6 * 6 = 36\n",
            "6 * 7 = 42\n",
            "6 * 8 = 48\n",
            "6 * 9 = 54\n",
            "6 * 10 = 60\n",
            "multiplication table of 7\n",
            "7 * 1 = 7\n",
            "7 * 2 = 14\n",
            "7 * 3 = 21\n",
            "7 * 4 = 28\n",
            "7 * 5 = 35\n",
            "7 * 6 = 42\n",
            "7 * 7 = 49\n",
            "7 * 8 = 56\n",
            "7 * 9 = 63\n",
            "7 * 10 = 70\n",
            "multiplication table of 8\n",
            "8 * 1 = 8\n",
            "8 * 2 = 16\n",
            "8 * 3 = 24\n",
            "8 * 4 = 32\n",
            "8 * 5 = 40\n",
            "8 * 6 = 48\n",
            "8 * 7 = 56\n",
            "8 * 8 = 64\n",
            "8 * 9 = 72\n",
            "8 * 10 = 80\n",
            "multiplication table of 9\n",
            "9 * 1 = 9\n",
            "9 * 2 = 18\n",
            "9 * 3 = 27\n",
            "9 * 4 = 36\n",
            "9 * 5 = 45\n",
            "9 * 6 = 54\n",
            "9 * 7 = 63\n",
            "9 * 8 = 72\n",
            "9 * 9 = 81\n",
            "9 * 10 = 90\n",
            "multiplication table of 10\n",
            "10 * 1 = 10\n",
            "10 * 2 = 20\n",
            "10 * 3 = 30\n",
            "10 * 4 = 40\n",
            "10 * 5 = 50\n",
            "10 * 6 = 60\n",
            "10 * 7 = 70\n",
            "10 * 8 = 80\n",
            "10 * 9 = 90\n",
            "10 * 10 = 100\n"
          ]
        }
      ]
    },
    {
      "cell_type": "markdown",
      "source": [
        "Program to print all prime numbers in a given range 1 to 100"
      ],
      "metadata": {
        "id": "7zwS64kBCGFN"
      }
    },
    {
      "cell_type": "code",
      "source": [
        "num=1\n",
        "while num<=100:\n",
        "  for test in range(2,num//2+1):\n",
        "    if num%test == 0:\n",
        "      break\n",
        "  else:\n",
        "      print(num)\n",
        "  num+=1"
      ],
      "metadata": {
        "id": "nH3lE9nr7i5f",
        "colab": {
          "base_uri": "https://localhost:8080/"
        },
        "outputId": "1b3dc244-62e8-4516-9da8-8214a1e12119"
      },
      "execution_count": null,
      "outputs": [
        {
          "output_type": "stream",
          "name": "stdout",
          "text": [
            "1\n",
            "2\n",
            "3\n",
            "5\n",
            "7\n",
            "11\n",
            "13\n",
            "17\n",
            "19\n",
            "23\n",
            "29\n",
            "31\n",
            "37\n",
            "41\n",
            "43\n",
            "47\n",
            "53\n",
            "59\n",
            "61\n",
            "67\n",
            "71\n",
            "73\n",
            "79\n",
            "83\n",
            "89\n",
            "97\n"
          ]
        }
      ]
    },
    {
      "cell_type": "code",
      "source": [],
      "metadata": {
        "id": "5G-dDjsiC8kO"
      },
      "execution_count": null,
      "outputs": []
    }
  ]
}