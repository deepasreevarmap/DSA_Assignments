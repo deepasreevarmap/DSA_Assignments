{
  "nbformat": 4,
  "nbformat_minor": 0,
  "metadata": {
    "colab": {
      "provenance": [],
      "authorship_tag": "ABX9TyPnSHDy+ScC8FClRAYCOlRn",
      "include_colab_link": true
    },
    "kernelspec": {
      "name": "python3",
      "display_name": "Python 3"
    },
    "language_info": {
      "name": "python"
    }
  },
  "cells": [
    {
      "cell_type": "markdown",
      "metadata": {
        "id": "view-in-github",
        "colab_type": "text"
      },
      "source": [
        "<a href=\"https://colab.research.google.com/github/deepasreevarmap/DSA_Assignments/blob/main/MST_MAR_24_Day01.ipynb\" target=\"_parent\"><img src=\"https://colab.research.google.com/assets/colab-badge.svg\" alt=\"Open In Colab\"/></a>"
      ]
    },
    {
      "cell_type": "markdown",
      "source": [
        "Welcome to day 1 of Python MST\n",
        "\n"
      ],
      "metadata": {
        "id": "EoIiqJQrwL9K"
      }
    },
    {
      "cell_type": "code",
      "source": [
        "print('Hello World!!')"
      ],
      "metadata": {
        "colab": {
          "base_uri": "https://localhost:8080/"
        },
        "id": "uz3IP8EgwKw0",
        "outputId": "bb1932b4-d380-4943-e8bb-574bc3c53db8"
      },
      "execution_count": 4,
      "outputs": [
        {
          "output_type": "stream",
          "name": "stdout",
          "text": [
            "Hello World!!\n"
          ]
        }
      ]
    },
    {
      "cell_type": "code",
      "source": [
        "print(\"Hello World!!\")"
      ],
      "metadata": {
        "colab": {
          "base_uri": "https://localhost:8080/"
        },
        "id": "UqDpBhCUwoxJ",
        "outputId": "14afb898-27bf-47dc-e8fa-0fc34f43934f"
      },
      "execution_count": 6,
      "outputs": [
        {
          "output_type": "stream",
          "name": "stdout",
          "text": [
            "Hello World!!\n"
          ]
        }
      ]
    },
    {
      "cell_type": "code",
      "source": [
        "print(233)"
      ],
      "metadata": {
        "colab": {
          "base_uri": "https://localhost:8080/"
        },
        "id": "dxYv6G8rwrQW",
        "outputId": "62710d17-4724-4c44-cd5d-b57e0cc4a7e3"
      },
      "execution_count": 7,
      "outputs": [
        {
          "output_type": "stream",
          "name": "stdout",
          "text": [
            "233\n"
          ]
        }
      ]
    },
    {
      "cell_type": "code",
      "source": [
        "print(4.6)"
      ],
      "metadata": {
        "colab": {
          "base_uri": "https://localhost:8080/"
        },
        "id": "psf0lG7_xShM",
        "outputId": "80ce0cce-e2f8-4089-8b30-4cecc9c7c459"
      },
      "execution_count": 8,
      "outputs": [
        {
          "output_type": "stream",
          "name": "stdout",
          "text": [
            "4.6\n"
          ]
        }
      ]
    },
    {
      "cell_type": "code",
      "source": [
        "print('Welcome to')\n",
        "print('World of Python')"
      ],
      "metadata": {
        "colab": {
          "base_uri": "https://localhost:8080/"
        },
        "id": "IYgVzCq8xUTX",
        "outputId": "95424453-c949-4bcc-be4e-f68658fc50c8"
      },
      "execution_count": 9,
      "outputs": [
        {
          "output_type": "stream",
          "name": "stdout",
          "text": [
            "Welcome to\n",
            "World of Python\n"
          ]
        }
      ]
    },
    {
      "cell_type": "code",
      "source": [
        "print('Welcome to',end = ' ')\n",
        "print('World of Python',end='!!')"
      ],
      "metadata": {
        "colab": {
          "base_uri": "https://localhost:8080/"
        },
        "id": "gu6s5CC_xwaH",
        "outputId": "335bfc96-2aa7-43d5-9c22-ddffbbdcac3b"
      },
      "execution_count": 10,
      "outputs": [
        {
          "output_type": "stream",
          "name": "stdout",
          "text": [
            "Welcome to World of Python!!"
          ]
        }
      ]
    },
    {
      "cell_type": "code",
      "source": [
        "print('\\\"Welcome all\\\"')"
      ],
      "metadata": {
        "colab": {
          "base_uri": "https://localhost:8080/"
        },
        "id": "j-TMJtpix8Wn",
        "outputId": "7dcb1d18-0ede-481a-bd7c-957366c5bf53"
      },
      "execution_count": 12,
      "outputs": [
        {
          "output_type": "stream",
          "name": "stdout",
          "text": [
            "\"Welcome all\"\n"
          ]
        }
      ]
    },
    {
      "cell_type": "code",
      "source": [
        "age = 30\n",
        "print(age)"
      ],
      "metadata": {
        "colab": {
          "base_uri": "https://localhost:8080/"
        },
        "id": "TMdWjqp6yw3Y",
        "outputId": "49864764-d666-4727-c273-57c14d854716"
      },
      "execution_count": 13,
      "outputs": [
        {
          "output_type": "stream",
          "name": "stdout",
          "text": [
            "30\n"
          ]
        }
      ]
    },
    {
      "cell_type": "code",
      "source": [
        "name = 'Anjali'\n",
        "age = 23\n",
        "mark = 45.50\n",
        "print(name)\n",
        "print(age)\n",
        "print(mark)"
      ],
      "metadata": {
        "colab": {
          "base_uri": "https://localhost:8080/"
        },
        "id": "cW9UhvC2zuVx",
        "outputId": "cd093ea0-93c3-4c44-b73c-6e1732c6a608"
      },
      "execution_count": 14,
      "outputs": [
        {
          "output_type": "stream",
          "name": "stdout",
          "text": [
            "Anjali\n",
            "23\n",
            "45.5\n"
          ]
        }
      ]
    },
    {
      "cell_type": "code",
      "source": [
        "name,age,mark = 'Anju',15,23.45\n",
        "print(name,age,mark)"
      ],
      "metadata": {
        "colab": {
          "base_uri": "https://localhost:8080/"
        },
        "id": "TPXId5aR0jn-",
        "outputId": "3e253fe0-50ff-4645-f43e-1ff7783ce763"
      },
      "execution_count": 15,
      "outputs": [
        {
          "output_type": "stream",
          "name": "stdout",
          "text": [
            "Anju 15 23.45\n"
          ]
        }
      ]
    },
    {
      "cell_type": "code",
      "source": [
        "x = 10\n",
        "y = 66.78\n",
        "z = 5+7j\n",
        "\n",
        "print(type(x))\n",
        "print(type(y))\n",
        "print(type(z))"
      ],
      "metadata": {
        "colab": {
          "base_uri": "https://localhost:8080/"
        },
        "id": "E-cyzat31OB1",
        "outputId": "0c88a27b-cb72-406a-bb53-fbba1734cc55"
      },
      "execution_count": 16,
      "outputs": [
        {
          "output_type": "stream",
          "name": "stdout",
          "text": [
            "<class 'int'>\n",
            "<class 'float'>\n",
            "<class 'complex'>\n"
          ]
        }
      ]
    },
    {
      "cell_type": "code",
      "source": [
        "num = int(input('Enter a number '))\n",
        "print(num)\n",
        "print(type(num))"
      ],
      "metadata": {
        "colab": {
          "base_uri": "https://localhost:8080/"
        },
        "id": "SmBAXZO85dWU",
        "outputId": "cd431600-1232-46e6-a740-a0a721e4fa41"
      },
      "execution_count": 18,
      "outputs": [
        {
          "output_type": "stream",
          "name": "stdout",
          "text": [
            "Enter a number 45\n",
            "45\n",
            "<class 'int'>\n"
          ]
        }
      ]
    },
    {
      "cell_type": "code",
      "source": [
        "num1 = int(input('Enter first number'))\n",
        "num2 = int(input('Enter second number'))\n",
        "print(num1+num2)"
      ],
      "metadata": {
        "colab": {
          "base_uri": "https://localhost:8080/"
        },
        "id": "PRu0Yg-A68ha",
        "outputId": "e87ef0a2-dd24-4467-846b-ccb723b5d165"
      },
      "execution_count": 19,
      "outputs": [
        {
          "output_type": "stream",
          "name": "stdout",
          "text": [
            "Enter first number34\n",
            "Enter second number67\n",
            "101\n"
          ]
        }
      ]
    },
    {
      "cell_type": "code",
      "source": [
        "name = 'Deepa'\n",
        "greeting = \"Hello\"\n",
        "msg = greeting+\" \"+name\n",
        "print(msg)"
      ],
      "metadata": {
        "colab": {
          "base_uri": "https://localhost:8080/"
        },
        "id": "CIQaxWeJ8LTM",
        "outputId": "1a3042a3-6dea-4c49-e868-e78a9c3a5514"
      },
      "execution_count": 21,
      "outputs": [
        {
          "output_type": "stream",
          "name": "stdout",
          "text": [
            "Hello Deepa\n"
          ]
        }
      ]
    },
    {
      "cell_type": "code",
      "source": [
        "print(name)\n",
        "print('\\n')\n",
        "print(greeting)"
      ],
      "metadata": {
        "colab": {
          "base_uri": "https://localhost:8080/"
        },
        "id": "LJaoVPsC8da5",
        "outputId": "15a7cc3a-15a1-4e6f-a88f-38fb80caa26e"
      },
      "execution_count": 23,
      "outputs": [
        {
          "output_type": "stream",
          "name": "stdout",
          "text": [
            "Deepa\n",
            "\n",
            "\n",
            "Hello\n"
          ]
        }
      ]
    },
    {
      "cell_type": "code",
      "source": [
        "print('Python'*10)"
      ],
      "metadata": {
        "colab": {
          "base_uri": "https://localhost:8080/"
        },
        "id": "RNu3p79C9lFu",
        "outputId": "eeb0c32e-0fb6-4c3b-f659-730798f6b70e"
      },
      "execution_count": 24,
      "outputs": [
        {
          "output_type": "stream",
          "name": "stdout",
          "text": [
            "PythonPythonPythonPythonPythonPythonPythonPythonPythonPython\n"
          ]
        }
      ]
    },
    {
      "cell_type": "code",
      "source": [
        "print('Python\\n'*10)"
      ],
      "metadata": {
        "colab": {
          "base_uri": "https://localhost:8080/"
        },
        "id": "cfUXh9He-Uda",
        "outputId": "75ad0347-7c91-4916-fe25-c7503f4baef5"
      },
      "execution_count": 25,
      "outputs": [
        {
          "output_type": "stream",
          "name": "stdout",
          "text": [
            "Python\n",
            "Python\n",
            "Python\n",
            "Python\n",
            "Python\n",
            "Python\n",
            "Python\n",
            "Python\n",
            "Python\n",
            "Python\n",
            "\n"
          ]
        }
      ]
    },
    {
      "cell_type": "code",
      "source": [
        "fname = input('Enter your first name ')\n",
        "sname = input('Enter your second name ')\n",
        "print('Hello '+fname+' '+sname)"
      ],
      "metadata": {
        "colab": {
          "base_uri": "https://localhost:8080/"
        },
        "id": "E_TWj8sM-X-r",
        "outputId": "b55a7fb9-74f8-461f-bbbf-fc8f8afac773"
      },
      "execution_count": 26,
      "outputs": [
        {
          "output_type": "stream",
          "name": "stdout",
          "text": [
            "Enter your first name Deepasree\n",
            "Enter your second name Varma\n",
            "Hello Deepasree Varma\n"
          ]
        }
      ]
    },
    {
      "cell_type": "code",
      "source": [
        "s = 'Python'\n"
      ],
      "metadata": {
        "id": "IbNfK_1N_vJm"
      },
      "execution_count": 27,
      "outputs": []
    },
    {
      "cell_type": "code",
      "source": [
        "print(s[-3])"
      ],
      "metadata": {
        "colab": {
          "base_uri": "https://localhost:8080/"
        },
        "id": "yf2ZiDw1AneW",
        "outputId": "a739266c-1ba6-4823-a8ad-93fbdb9839a0"
      },
      "execution_count": 30,
      "outputs": [
        {
          "output_type": "stream",
          "name": "stdout",
          "text": [
            "h\n"
          ]
        }
      ]
    },
    {
      "cell_type": "code",
      "source": [
        "print(len(s))"
      ],
      "metadata": {
        "colab": {
          "base_uri": "https://localhost:8080/"
        },
        "id": "4wNtw_ddApBo",
        "outputId": "d4880ba9-2616-4e29-c27a-01559ef4620a"
      },
      "execution_count": 31,
      "outputs": [
        {
          "output_type": "stream",
          "name": "stdout",
          "text": [
            "6\n"
          ]
        }
      ]
    },
    {
      "cell_type": "code",
      "source": [
        "print(s[0:4])"
      ],
      "metadata": {
        "colab": {
          "base_uri": "https://localhost:8080/"
        },
        "id": "ywU3YY2tAtbf",
        "outputId": "6831cdae-f479-4fc8-8fe6-506c803d15f7"
      },
      "execution_count": 32,
      "outputs": [
        {
          "output_type": "stream",
          "name": "stdout",
          "text": [
            "Pyth\n"
          ]
        }
      ]
    },
    {
      "cell_type": "code",
      "source": [
        "print(s[:3])"
      ],
      "metadata": {
        "colab": {
          "base_uri": "https://localhost:8080/"
        },
        "id": "wkEJhIFUBkHt",
        "outputId": "2ca9c9f9-696e-489e-e5f3-1d7980e08b86"
      },
      "execution_count": 33,
      "outputs": [
        {
          "output_type": "stream",
          "name": "stdout",
          "text": [
            "Pyt\n"
          ]
        }
      ]
    },
    {
      "cell_type": "code",
      "source": [
        "print(s[-5:-2])"
      ],
      "metadata": {
        "colab": {
          "base_uri": "https://localhost:8080/"
        },
        "id": "BKja9ZlQB7a2",
        "outputId": "da78809b-3eab-4cf6-97b3-77959abace34"
      },
      "execution_count": 34,
      "outputs": [
        {
          "output_type": "stream",
          "name": "stdout",
          "text": [
            "yth\n"
          ]
        }
      ]
    },
    {
      "cell_type": "code",
      "source": [
        "print(s[0:6:2])"
      ],
      "metadata": {
        "colab": {
          "base_uri": "https://localhost:8080/"
        },
        "id": "jrt-C08gDHP8",
        "outputId": "1b48a99c-f63e-4299-aa0c-12d51493a6fb"
      },
      "execution_count": 35,
      "outputs": [
        {
          "output_type": "stream",
          "name": "stdout",
          "text": [
            "Pto\n"
          ]
        }
      ]
    },
    {
      "cell_type": "code",
      "source": [
        "print(s[-1:-7:-1])"
      ],
      "metadata": {
        "colab": {
          "base_uri": "https://localhost:8080/"
        },
        "id": "C_eOvK4jDfKt",
        "outputId": "bf342098-24d8-4617-f663-8863975c5ab8"
      },
      "execution_count": 36,
      "outputs": [
        {
          "output_type": "stream",
          "name": "stdout",
          "text": [
            "nohtyP\n"
          ]
        }
      ]
    },
    {
      "cell_type": "code",
      "source": [
        "print(s[::-2])"
      ],
      "metadata": {
        "colab": {
          "base_uri": "https://localhost:8080/"
        },
        "id": "kEsSExJzEUxn",
        "outputId": "c155c2a3-1b68-41b2-c554-d34b9af67501"
      },
      "execution_count": 76,
      "outputs": [
        {
          "output_type": "stream",
          "name": "stdout",
          "text": [
            "nhy\n"
          ]
        }
      ]
    },
    {
      "cell_type": "code",
      "source": [
        "print(s[5::-1])"
      ],
      "metadata": {
        "colab": {
          "base_uri": "https://localhost:8080/"
        },
        "id": "5vTvUh_tEYlm",
        "outputId": "cf8cfc85-9427-40e2-9af4-2b10ffa95fd7"
      },
      "execution_count": 70,
      "outputs": [
        {
          "output_type": "stream",
          "name": "stdout",
          "text": [
            "nohtyP\n"
          ]
        }
      ]
    },
    {
      "cell_type": "code",
      "source": [
        "s1 = 'python programming'\n",
        "print(s1.capitalize())"
      ],
      "metadata": {
        "colab": {
          "base_uri": "https://localhost:8080/"
        },
        "id": "x59IPvDwEsBe",
        "outputId": "99c96f33-136e-481d-c136-3377574f4edc"
      },
      "execution_count": 44,
      "outputs": [
        {
          "output_type": "stream",
          "name": "stdout",
          "text": [
            "Python programming\n"
          ]
        }
      ]
    },
    {
      "cell_type": "code",
      "source": [
        "s1 = 'python programming'\n",
        "print(s1.upper())"
      ],
      "metadata": {
        "colab": {
          "base_uri": "https://localhost:8080/"
        },
        "id": "5BWqXgUUFWoI",
        "outputId": "2ed73fb8-88e3-4fcc-9435-967e7c538b15"
      },
      "execution_count": 45,
      "outputs": [
        {
          "output_type": "stream",
          "name": "stdout",
          "text": [
            "PYTHON PROGRAMMING\n"
          ]
        }
      ]
    },
    {
      "cell_type": "code",
      "source": [
        "s2 = 'Hello How Are you'\n",
        "print(s2.lower())"
      ],
      "metadata": {
        "colab": {
          "base_uri": "https://localhost:8080/"
        },
        "id": "PWku9zpDFci0",
        "outputId": "904a8206-ebf0-413d-cebf-3cb699af4dcc"
      },
      "execution_count": 46,
      "outputs": [
        {
          "output_type": "stream",
          "name": "stdout",
          "text": [
            "hello how are you\n"
          ]
        }
      ]
    },
    {
      "cell_type": "code",
      "source": [
        "s2 = 'Hello How Are you'\n",
        "print(s2.swapcase())"
      ],
      "metadata": {
        "colab": {
          "base_uri": "https://localhost:8080/"
        },
        "id": "eW-CwSBJFpz_",
        "outputId": "8c15bee6-f853-471a-9ae4-0ae162fcc2fd"
      },
      "execution_count": 47,
      "outputs": [
        {
          "output_type": "stream",
          "name": "stdout",
          "text": [
            "hELLO hOW aRE YOU\n"
          ]
        }
      ]
    },
    {
      "cell_type": "code",
      "source": [
        "x = True\n",
        "print(type(x))"
      ],
      "metadata": {
        "colab": {
          "base_uri": "https://localhost:8080/"
        },
        "id": "fmijmrW7FvpQ",
        "outputId": "76305f6a-371c-45be-e220-34b9b83bf61c"
      },
      "execution_count": 50,
      "outputs": [
        {
          "output_type": "stream",
          "name": "stdout",
          "text": [
            "<class 'bool'>\n"
          ]
        }
      ]
    },
    {
      "cell_type": "code",
      "source": [
        "y = False\n",
        "print(type(y))"
      ],
      "metadata": {
        "colab": {
          "base_uri": "https://localhost:8080/"
        },
        "id": "SBKmSAFCGjCb",
        "outputId": "8379db2a-e582-414c-88a7-37b5960ca166"
      },
      "execution_count": 52,
      "outputs": [
        {
          "output_type": "stream",
          "name": "stdout",
          "text": [
            "<class 'bool'>\n"
          ]
        }
      ]
    },
    {
      "cell_type": "code",
      "source": [
        "print(str(True))"
      ],
      "metadata": {
        "colab": {
          "base_uri": "https://localhost:8080/"
        },
        "id": "XfSsk_JTGq_Z",
        "outputId": "2dc9d03a-93b4-4d30-aeee-056ab9d0a0f7"
      },
      "execution_count": 53,
      "outputs": [
        {
          "output_type": "stream",
          "name": "stdout",
          "text": [
            "True\n"
          ]
        }
      ]
    },
    {
      "cell_type": "code",
      "source": [
        "print(bool('H'))"
      ],
      "metadata": {
        "colab": {
          "base_uri": "https://localhost:8080/"
        },
        "id": "jCquzPtXHnp5",
        "outputId": "db8b8a07-5929-4d35-f591-1a8382e9717f"
      },
      "execution_count": 56,
      "outputs": [
        {
          "output_type": "stream",
          "name": "stdout",
          "text": [
            "True\n"
          ]
        }
      ]
    },
    {
      "cell_type": "code",
      "source": [
        "print(bool(''))"
      ],
      "metadata": {
        "colab": {
          "base_uri": "https://localhost:8080/"
        },
        "id": "11snOqgFH3sj",
        "outputId": "0d38740d-19e6-4622-ed08-f7ddee59a48d"
      },
      "execution_count": 55,
      "outputs": [
        {
          "output_type": "stream",
          "name": "stdout",
          "text": [
            "False\n"
          ]
        }
      ]
    },
    {
      "cell_type": "code",
      "source": [
        "print(bool(3+4j))"
      ],
      "metadata": {
        "colab": {
          "base_uri": "https://localhost:8080/"
        },
        "id": "xhULiZ8nICVY",
        "outputId": "27c43263-08e1-4d36-f6ff-cc19f12016f1"
      },
      "execution_count": 57,
      "outputs": [
        {
          "output_type": "stream",
          "name": "stdout",
          "text": [
            "True\n"
          ]
        }
      ]
    },
    {
      "cell_type": "code",
      "source": [
        "print(bool(0+0j))"
      ],
      "metadata": {
        "colab": {
          "base_uri": "https://localhost:8080/"
        },
        "id": "K4dKnxpHIaBg",
        "outputId": "3e6d0403-e796-4699-cc02-f4b4ff9c60db"
      },
      "execution_count": 58,
      "outputs": [
        {
          "output_type": "stream",
          "name": "stdout",
          "text": [
            "False\n"
          ]
        }
      ]
    },
    {
      "cell_type": "code",
      "source": [
        "x=5+6j\n",
        "int(x.real)"
      ],
      "metadata": {
        "colab": {
          "base_uri": "https://localhost:8080/"
        },
        "id": "GnYsJCSAIdYi",
        "outputId": "743a193c-bf27-446e-c090-a6a5ee8efc44"
      },
      "execution_count": 61,
      "outputs": [
        {
          "output_type": "execute_result",
          "data": {
            "text/plain": [
              "5"
            ]
          },
          "metadata": {},
          "execution_count": 61
        }
      ]
    },
    {
      "cell_type": "markdown",
      "source": [
        "Operators - Arithmatic"
      ],
      "metadata": {
        "id": "MMkUJU4bJVC1"
      }
    },
    {
      "cell_type": "code",
      "source": [
        "#Program to find area of a rectangle\n",
        "length = float(input('Enter length'))\n",
        "bredth = float(input('Enter bredth'))\n",
        "area = length * bredth\n",
        "print('Area of rectangle is ',area)"
      ],
      "metadata": {
        "colab": {
          "base_uri": "https://localhost:8080/"
        },
        "id": "UnkzwR5BIsQE",
        "outputId": "055de388-a587-4cb2-d5cb-a234d6d42e2f"
      },
      "execution_count": 62,
      "outputs": [
        {
          "output_type": "stream",
          "name": "stdout",
          "text": [
            "Enter length4.5\n",
            "Enter bredth2\n",
            "Area of rectangle is  9.0\n"
          ]
        }
      ]
    },
    {
      "cell_type": "code",
      "source": [
        "a = 10\n",
        "b = 15\n",
        "print(a,b)\n",
        "print(id(a))\n",
        "print(id(b))"
      ],
      "metadata": {
        "colab": {
          "base_uri": "https://localhost:8080/"
        },
        "id": "MywptB-VJ63W",
        "outputId": "3c72e4f9-9b67-4ca8-bbbf-05b53733cd10"
      },
      "execution_count": 64,
      "outputs": [
        {
          "output_type": "stream",
          "name": "stdout",
          "text": [
            "10 15\n",
            "140498305335824\n",
            "140498305335984\n"
          ]
        }
      ]
    },
    {
      "cell_type": "code",
      "source": [
        "a = 10\n",
        "b = 15\n",
        "b = a\n",
        "print(a,b)\n",
        "print(id(a))\n",
        "print(id(b))"
      ],
      "metadata": {
        "colab": {
          "base_uri": "https://localhost:8080/"
        },
        "id": "d6SaU4K2Lnii",
        "outputId": "2c2c3679-44a9-40ea-9904-f5b48cd96d45"
      },
      "execution_count": 65,
      "outputs": [
        {
          "output_type": "stream",
          "name": "stdout",
          "text": [
            "10 10\n",
            "140498305335824\n",
            "140498305335824\n"
          ]
        }
      ]
    },
    {
      "cell_type": "code",
      "source": [
        "num = 10\n",
        "print(id(num))"
      ],
      "metadata": {
        "colab": {
          "base_uri": "https://localhost:8080/"
        },
        "id": "odE7iC51MHNi",
        "outputId": "8803fad2-60ed-4c91-eaf9-7edf780260ef"
      },
      "execution_count": 66,
      "outputs": [
        {
          "output_type": "stream",
          "name": "stdout",
          "text": [
            "140498305335824\n"
          ]
        }
      ]
    },
    {
      "cell_type": "code",
      "source": [
        "num = 23\n",
        "print(id(num))"
      ],
      "metadata": {
        "colab": {
          "base_uri": "https://localhost:8080/"
        },
        "id": "j2LvVqEoMTRU",
        "outputId": "bc2d5f15-e7fa-4700-f18f-c72d2e4f79c9"
      },
      "execution_count": 67,
      "outputs": [
        {
          "output_type": "stream",
          "name": "stdout",
          "text": [
            "140498305336240\n"
          ]
        }
      ]
    },
    {
      "cell_type": "code",
      "source": [],
      "metadata": {
        "id": "gBI_EghoMuKZ"
      },
      "execution_count": null,
      "outputs": []
    }
  ]
}